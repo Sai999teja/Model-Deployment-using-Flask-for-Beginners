{
 "cells": [
  {
   "cell_type": "code",
   "execution_count": null,
   "metadata": {},
   "outputs": [],
   "source": [
    "\"\"\"\n",
    "# importing libraries\n",
    "import os\n",
    "import numpy as np\n",
    "import flask\n",
    "import pickle\n",
    "from flask import Flask, render_template, request\n",
    "\n",
    "\"\"\""
   ]
  },
  {
   "cell_type": "code",
   "execution_count": null,
   "metadata": {},
   "outputs": [
    {
     "name": "stderr",
     "output_type": "stream",
     "text": [
      " * Running on http://127.0.0.1:5000/ (Press CTRL+C to quit)\n",
      "127.0.0.1 - - [20/Aug/2020 00:39:57] \"\u001b[37mGET /index HTTP/1.1\u001b[0m\" 200 -\n",
      "127.0.0.1 - - [20/Aug/2020 00:39:57] \"\u001b[37mGET / HTTP/1.1\u001b[0m\" 200 -\n",
      "127.0.0.1 - - [20/Aug/2020 00:40:08] \"\u001b[37mPOST /result HTTP/1.1\u001b[0m\" 200 -\n",
      "127.0.0.1 - - [20/Aug/2020 00:42:52] \"\u001b[37mGET /index HTTP/1.1\u001b[0m\" 200 -\n",
      "127.0.0.1 - - [20/Aug/2020 00:42:52] \"\u001b[37mGET / HTTP/1.1\u001b[0m\" 200 -\n",
      "127.0.0.1 - - [20/Aug/2020 00:43:21] \"\u001b[37mPOST /result HTTP/1.1\u001b[0m\" 200 -\n",
      "127.0.0.1 - - [20/Aug/2020 00:50:53] \"\u001b[37mGET /index HTTP/1.1\u001b[0m\" 200 -\n",
      "127.0.0.1 - - [20/Aug/2020 00:50:53] \"\u001b[37mGET / HTTP/1.1\u001b[0m\" 200 -\n",
      "127.0.0.1 - - [20/Aug/2020 00:51:06] \"\u001b[37mPOST /result HTTP/1.1\u001b[0m\" 200 -\n",
      "127.0.0.1 - - [20/Aug/2020 00:51:50] \"\u001b[37mGET / HTTP/1.1\u001b[0m\" 200 -\n",
      "127.0.0.1 - - [20/Aug/2020 00:51:56] \"\u001b[37mGET /index HTTP/1.1\u001b[0m\" 200 -\n",
      "127.0.0.1 - - [20/Aug/2020 00:52:20] \"\u001b[37mPOST /result HTTP/1.1\u001b[0m\" 200 -\n"
     ]
    }
   ],
   "source": [
    "import os\n",
    "import numpy as np\n",
    "import flask\n",
    "import pickle\n",
    "from flask import Flask, redirect, url_for, request, render_template\n",
    "\n",
    "\n",
    "# creating instance of the class\n",
    "app = Flask(__name__, template_folder='templates')\n",
    "\n",
    "# to tell flask what url should trigger the function index()\n",
    "@app.route('/')\n",
    "@app.route('/index')\n",
    "def index():\n",
    "    return flask.render_template('index.html')\n",
    "    \n",
    "    \n",
    "# prediction function\n",
    "def ValuePredictor(to_predict_list):\n",
    "    to_predict = np.array(to_predict_list).reshape(1,2)\n",
    "    loaded_model = pickle.load(open(\"model.pkl\",\"rb\")) # load the model\n",
    "    result = loaded_model.predict(to_predict) # predict the values using loded model\n",
    "    return result[0]\n",
    "\n",
    "\n",
    "@app.route('/result', methods = ['POST'])\n",
    "def result():\n",
    "    if request.method == 'POST':\n",
    "        to_predict_list = request.form.values()\n",
    "        to_predict_list = list(map(float, to_predict_list))\n",
    "        result = ValuePredictor(to_predict_list)\n",
    "            \n",
    "        if float(result) == 0:\n",
    "            prediction='Customers with medium annual income and medium annual spend'\n",
    "        elif float(result) == 1:\n",
    "            prediction='Customers with medium to high annual income and low annual spend'\n",
    "        elif float(result) == 2:\n",
    "            prediction='Customers with low annual income and low annual spend'\n",
    "        elif float(result) == 3:\n",
    "            prediction='Customers with low annual income and high annual spend'\n",
    "        elif float(result) == 4:\n",
    "            prediction='Customers with medium to high annual income and high annual spend'\n",
    "            \n",
    "        return render_template(\"result.html\",prediction=prediction)\n",
    "\n",
    "if __name__ == \"__main__\":\n",
    "    app.run(debug=False) # use debug = False for jupyter notebook"
   ]
  },
  {
   "cell_type": "markdown",
   "metadata": {},
   "source": [
    "<html> \n",
    "<body> \n",
    "    <h3>Customer Segmentation</h3> \n",
    "  \n",
    "<div> \n",
    "  <form action=\"/result2\" method=\"POST\"> \n",
    "    <label for=\"Annual Income\">Annual Income</label> \n",
    "    <input type=\"text\" id=\"Annual Income\" name=\"Annual Income\"> \n",
    "    <br>\n",
    "    <label for=\"Spending Score (1-100)\">Spending Score (1-100)</label> \n",
    "    <input type=\"text\" id=\"Spending Score (1-100)\" name=\"Spending Score (1-100)\"> \n",
    "    <br>       \n",
    "    <input type=\"submit\" value=\"Submit\"> \n",
    "  </form> \n",
    "</div> \n",
    "</body> \n",
    "</html> "
   ]
  },
  {
   "cell_type": "code",
   "execution_count": null,
   "metadata": {},
   "outputs": [],
   "source": []
  }
 ],
 "metadata": {
  "kernelspec": {
   "display_name": "Python 3",
   "language": "python",
   "name": "python3"
  },
  "language_info": {
   "codemirror_mode": {
    "name": "ipython",
    "version": 3
   },
   "file_extension": ".py",
   "mimetype": "text/x-python",
   "name": "python",
   "nbconvert_exporter": "python",
   "pygments_lexer": "ipython3",
   "version": "3.6.10"
  }
 },
 "nbformat": 4,
 "nbformat_minor": 4
}
